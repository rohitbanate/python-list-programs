{
 "cells": [
  {
   "cell_type": "markdown",
   "id": "3b18237b",
   "metadata": {},
   "source": [
    "### interchange first and last elements in a list"
   ]
  },
  {
   "cell_type": "markdown",
   "id": "379972a5",
   "metadata": {},
   "source": [
    "Input : [12, 35, 9, 56, 24]\n",
    "    \n",
    "Output : [24, 35, 9, 56, 12]\n",
    "    \n",
    "    \n",
    "    \n",
    "    \n",
    "\n",
    "Input : [1, 2, 3]\n",
    "    \n",
    "Output : [3, 2, 1]"
   ]
  },
  {
   "cell_type": "code",
   "execution_count": 1,
   "id": "fbdaec71",
   "metadata": {},
   "outputs": [
    {
     "name": "stdout",
     "output_type": "stream",
     "text": [
      "[24, 35, 9, 56, 12]\n"
     ]
    }
   ],
   "source": [
    "def swapitem(newlist):\n",
    "    n = len(newlist)\n",
    "    \n",
    "    temp = newlist[0]\n",
    "    newlist[0] = newlist[n-1]\n",
    "    newlist[n-1] = temp\n",
    "    \n",
    "    return newlist\n",
    "\n",
    "newlist = [12, 35, 9, 56, 24]\n",
    "\n",
    "\n",
    "print(swapitem(newlist))"
   ]
  },
  {
   "cell_type": "markdown",
   "id": "ff34b79d",
   "metadata": {},
   "source": [
    "### to Swap Two Elements in a List"
   ]
  },
  {
   "cell_type": "markdown",
   "id": "744bdc3a",
   "metadata": {},
   "source": [
    "Input : List = [23, 65, 19, 90], pos1 = 1, pos2 = 3\n",
    "Output : [19, 65, 23, 90]\n",
    "\n",
    "Input : List = [1, 2, 3, 4, 5], pos1 = 2, pos2 = 5\n",
    "Output : [1, 5, 3, 4, 2]\n",
    "\n"
   ]
  },
  {
   "cell_type": "code",
   "execution_count": 2,
   "id": "ca3774f1",
   "metadata": {},
   "outputs": [
    {
     "name": "stdout",
     "output_type": "stream",
     "text": [
      "enter the position of first element: 4\n",
      "enter the position of second element: 2\n",
      "[23, 90, 19, 65]\n"
     ]
    }
   ],
   "source": [
    "def swap_position (arr, pos1, pos2):\n",
    "    arr[pos1], arr[pos2] = arr[pos2], arr[pos1]\n",
    "    return arr\n",
    "\n",
    "\n",
    "arr = [23, 65, 19, 90]\n",
    "pos1= int(input(\"enter the position of first element: \"))\n",
    "pos2= int(input(\"enter the position of second element: \"))\n",
    "\n",
    "   \n",
    "print(swap_position(arr, pos1-1, pos2-1)) # -1 because array starts from 0\n",
    "\n"
   ]
  },
  {
   "cell_type": "markdown",
   "id": "b8365885",
   "metadata": {},
   "source": [
    "### Length of a List in Python"
   ]
  },
  {
   "cell_type": "code",
   "execution_count": 3,
   "id": "de44098c",
   "metadata": {},
   "outputs": [
    {
     "name": "stdout",
     "output_type": "stream",
     "text": [
      "length of the list is 3\n"
     ]
    }
   ],
   "source": [
    "list1= list((10 , 20 , 345))\n",
    "n= len(list1)\n",
    "print (\"length of the list is\",n)"
   ]
  },
  {
   "cell_type": "markdown",
   "id": "17be00d5",
   "metadata": {},
   "source": [
    "### Check if element exists in list in Python\n"
   ]
  },
  {
   "cell_type": "code",
   "execution_count": 4,
   "id": "28d56974",
   "metadata": {},
   "outputs": [
    {
     "name": "stdout",
     "output_type": "stream",
     "text": [
      "ENTER THE NUMBER TO CHECK: 12\n",
      "not exist\n"
     ]
    }
   ],
   "source": [
    "test_list = [1, 6, 3, 5, 3, 4]\n",
    "\n",
    "i=int(input(\"ENTER THE NUMBER TO CHECK: \"))\n",
    "\n",
    "if i in test_list:\n",
    "    print(\"exist\")\n",
    "else:\n",
    "    print(\"not exist\")"
   ]
  },
  {
   "cell_type": "markdown",
   "id": "5a6f151d",
   "metadata": {},
   "source": [
    "### Different ways to clear a list in Python\n"
   ]
  },
  {
   "cell_type": "code",
   "execution_count": 5,
   "id": "bfebb889",
   "metadata": {},
   "outputs": [
    {
     "name": "stdout",
     "output_type": "stream",
     "text": [
      "before clearing  [6, 0, 4, 1]\n",
      "after clearing list []\n"
     ]
    }
   ],
   "source": [
    "list1 = [6, 0, 4, 1]\n",
    "print(\"before clearing \", list1)\n",
    "\n",
    "list1.clear()\n",
    "print(\"after clearing list\", list1)"
   ]
  },
  {
   "cell_type": "markdown",
   "id": "f1120883",
   "metadata": {},
   "source": [
    "### Reversing a List in Python\n"
   ]
  },
  {
   "cell_type": "markdown",
   "id": "1cc0743f",
   "metadata": {},
   "source": [
    "Input: list = [4, 5, 6, 7, 8, 9]\n",
    "    \n",
    "    \n",
    "Output : [9, 8, 7, 6, 5, 4] "
   ]
  },
  {
   "cell_type": "code",
   "execution_count": 6,
   "id": "88a59838",
   "metadata": {},
   "outputs": [
    {
     "name": "stdout",
     "output_type": "stream",
     "text": [
      "[11, 12, 46, 58, 42, 415, 10]\n"
     ]
    }
   ],
   "source": [
    "def reverce(lst):\n",
    "    new_list = lst[::-1]\n",
    "    return new_list\n",
    "\n",
    "lst = list((10, 415,42,58,46,12,11))\n",
    "\n",
    "print(reverce(lst))"
   ]
  },
  {
   "cell_type": "code",
   "execution_count": 7,
   "id": "9148959e",
   "metadata": {},
   "outputs": [
    {
     "data": {
      "text/plain": [
       "[10, 415, 42, 58, 46, 12, 11]"
      ]
     },
     "execution_count": 7,
     "metadata": {},
     "output_type": "execute_result"
    }
   ],
   "source": [
    "lst"
   ]
  },
  {
   "cell_type": "code",
   "execution_count": 8,
   "id": "3a2ded07",
   "metadata": {},
   "outputs": [
    {
     "name": "stdout",
     "output_type": "stream",
     "text": [
      "brfore using reverse keyword: [11, 12, 46, 58, 42, 415, 10]\n",
      "after using reverse keyword [10, 415, 42, 58, 46, 12, 11]\n"
     ]
    }
   ],
   "source": [
    "lst = [11, 12, 46, 58, 42, 415, 10]\n",
    "print(\"brfore using reverse keyword:\", lst)\n",
    "\n",
    "lst.reverse()\n",
    "\n",
    "print(\"after using reverse keyword\", lst)"
   ]
  },
  {
   "cell_type": "code",
   "execution_count": 9,
   "id": "ab5d3985",
   "metadata": {},
   "outputs": [
    {
     "name": "stdout",
     "output_type": "stream",
     "text": [
      "[10, 415, 42, 58, 46, 12, 11]\n"
     ]
    }
   ],
   "source": [
    "#using for loop \n",
    "\n",
    "lst = [11, 12, 46, 58, 42, 415, 10]\n",
    "\n",
    "reverced_list = []\n",
    "\n",
    "for i in lst:\n",
    "    reverced_list.insert(0,i)\n",
    "print(reverced_list)"
   ]
  },
  {
   "cell_type": "markdown",
   "id": "0112811c",
   "metadata": {},
   "source": [
    "### to find sum of elements in list"
   ]
  },
  {
   "cell_type": "markdown",
   "id": "7fb7a0e6",
   "metadata": {},
   "source": [
    "Input: [12, 15, 3, 10]\n",
    "Output: 40\n",
    "\n",
    "    \n",
    "    \n",
    "Input: [17, 5, 3, 5]\n",
    "Output: 30"
   ]
  },
  {
   "cell_type": "code",
   "execution_count": 10,
   "id": "1aa6e660",
   "metadata": {},
   "outputs": [
    {
     "name": "stdout",
     "output_type": "stream",
     "text": [
      "sum of list is 136\n"
     ]
    }
   ],
   "source": [
    "def sum_(lst):\n",
    "    total = 0\n",
    "    for i in range(len(lst)):\n",
    "        total = total + lst[i]\n",
    "        \n",
    "        \n",
    "    return total\n",
    "\n",
    "\n",
    "#driven code\n",
    "lst = [12, 35, 9, 56, 24]\n",
    "print(\"sum of list is\", sum_(lst))"
   ]
  },
  {
   "cell_type": "code",
   "execution_count": 11,
   "id": "505620da",
   "metadata": {},
   "outputs": [
    {
     "name": "stdout",
     "output_type": "stream",
     "text": [
      "total of the list is  136\n"
     ]
    }
   ],
   "source": [
    "total = 0 \n",
    "\n",
    "lst = [12, 35, 9, 56, 24]\n",
    "\n",
    "\n",
    "for i in range (0, len(lst)):\n",
    "    total = total + lst[i]\n",
    "    \n",
    "    \n",
    "print(\"total of the list is \", total)"
   ]
  },
  {
   "cell_type": "code",
   "execution_count": 12,
   "id": "d832ed75",
   "metadata": {},
   "outputs": [
    {
     "name": "stdout",
     "output_type": "stream",
     "text": [
      "sum of the list is : 45\n"
     ]
    }
   ],
   "source": [
    "total = 0\n",
    "i = 0\n",
    "\n",
    "lst = [12, 35, 9, 56, 24]\n",
    "\n",
    "\n",
    "while(i < len(lst)):\n",
    "    total = total + lst[i]\n",
    "    i+=2\n",
    "    \n",
    "print(\"sum of the list is :\", total)"
   ]
  },
  {
   "cell_type": "markdown",
   "id": "4ec1bc2c",
   "metadata": {},
   "source": [
    "### Python program to count positive and negative numbers in a list"
   ]
  },
  {
   "cell_type": "code",
   "execution_count": 13,
   "id": "aeb6a86a",
   "metadata": {},
   "outputs": [
    {
     "name": "stdout",
     "output_type": "stream",
     "text": [
      "positive numbers in the list are:  4\n",
      "negative numbers in the list are :  3\n"
     ]
    }
   ],
   "source": [
    "list1 = [10, -21, 4, -45, 66, -93, 1]\n",
    "pos_count = 0\n",
    "neg_count = 0\n",
    "\n",
    "for i in list1:\n",
    "    \n",
    "    \n",
    "    if i >= 0:\n",
    "        pos_count += 1\n",
    "    else:\n",
    "        neg_count += 1\n",
    "\n",
    "        \n",
    "print(\"positive numbers in the list are: \", pos_count)\n",
    "print(\"negative numbers in the list are : \", neg_count)\n"
   ]
  },
  {
   "cell_type": "markdown",
   "id": "1ead99b9",
   "metadata": {},
   "source": [
    "### Multiply all numbers in the list"
   ]
  },
  {
   "cell_type": "markdown",
   "id": "978a6980",
   "metadata": {},
   "source": [
    "Input :  list1 = [1, 2, 3] \n",
    "Output : 6 \n",
    "Explanation: 1*2*3=6 \n",
    "\n",
    "Input : list1 = [3, 2, 4] \n",
    "Output : 24 "
   ]
  },
  {
   "cell_type": "code",
   "execution_count": 14,
   "id": "13372674",
   "metadata": {},
   "outputs": [
    {
     "name": "stdout",
     "output_type": "stream",
     "text": [
      "5080320\n"
     ]
    }
   ],
   "source": [
    "def mul(list1):\n",
    "    result = 1\n",
    "    for i in range(len(list1)):\n",
    "        result = result * list1[i]\n",
    "        i+=1\n",
    "        \n",
    "    return result\n",
    "#driven code\n",
    "lst = [12, 35, 9, 56, 24]\n",
    "\n",
    "\n",
    "print(mul(lst))"
   ]
  },
  {
   "cell_type": "code",
   "execution_count": 15,
   "id": "8fdf06d7",
   "metadata": {},
   "outputs": [
    {
     "name": "stdout",
     "output_type": "stream",
     "text": [
      "enter the list of integers seperated by space : 12\n",
      "the given list is :  [12]\n",
      "the multiplication of numbers in the given list is :  12\n"
     ]
    }
   ],
   "source": [
    "#same problem with the input list \n",
    "def mult(list1):\n",
    "    result = 1\n",
    "    for i in range(len(list1)):\n",
    "        result = result * list1[i]\n",
    "        i+=1\n",
    "        \n",
    "    return result \n",
    "\n",
    "\n",
    "\n",
    "\n",
    "\n",
    "# driven code \n",
    "input_string = input(\"enter the list of integers seperated by space : \")\n",
    "input_list = input_string.split()\n",
    "\n",
    "my_list = []\n",
    "\n",
    "for i in input_list:\n",
    "    my_list.append(int(i))\n",
    "    \n",
    "print(\"the given list is : \", my_list)\n",
    "\n",
    "print(\"the multiplication of numbers in the given list is : \", mult(my_list))"
   ]
  },
  {
   "cell_type": "markdown",
   "id": "5bc5d508",
   "metadata": {},
   "source": [
    "### Python program to find smallest number in a list\n"
   ]
  },
  {
   "cell_type": "code",
   "execution_count": 16,
   "id": "a423da77",
   "metadata": {},
   "outputs": [
    {
     "name": "stdout",
     "output_type": "stream",
     "text": [
      "enter the list of integers seperated by sapce: 2\n",
      "[2]\n",
      "smallest element is :  2\n"
     ]
    }
   ],
   "source": [
    "input_string = input(\"enter the list of integers seperated by sapce: \")\n",
    "input_list = input_string.split()\n",
    "\n",
    "list1 = []\n",
    "\n",
    "for i in input_list:\n",
    "    list1.append(int(i))\n",
    "\n",
    "list1.sort()\n",
    "print(list1)\n",
    "print(\"smallest element is : \", list1[0])"
   ]
  },
  {
   "cell_type": "code",
   "execution_count": 17,
   "id": "9fffd04a",
   "metadata": {},
   "outputs": [
    {
     "name": "stdout",
     "output_type": "stream",
     "text": [
      "the smallest number in the list is 2\n"
     ]
    }
   ],
   "source": [
    "# using numpy\n",
    "\n",
    "import numpy as np\n",
    "\n",
    "\n",
    "lis = [5, 7, 2, 8, 9]\n",
    "\n",
    "minimum = np.min(lis)\n",
    "\n",
    "\n",
    "print(\"the smallest number in the list is\", minimum)"
   ]
  },
  {
   "cell_type": "markdown",
   "id": "55e085bb",
   "metadata": {},
   "source": [
    "### Python Program to Find Largest Number in a List\n"
   ]
  },
  {
   "cell_type": "code",
   "execution_count": 49,
   "id": "d78388e5",
   "metadata": {},
   "outputs": [
    {
     "name": "stdout",
     "output_type": "stream",
     "text": [
      "enter the list seperated by space : 1 2 6 4 8 \n",
      "[8, 6, 4, 2, 1]\n",
      "the largest element in the list is :  8\n"
     ]
    }
   ],
   "source": [
    "input_string = input(\"enter the list seperated by space : \")\n",
    "input_list = input_string.split()\n",
    "\n",
    "lis = []\n",
    "\n",
    "for i in input_list:\n",
    "    lis.append(int(i))\n",
    "    \n",
    "lis.sort(reverse = True) # it is the exact code for smallest no in the list except sort(reverse = True) \n",
    "\n",
    "print(lis)\n",
    "print(\"the largest element in the list is : \", lis[0])"
   ]
  },
  {
   "cell_type": "code",
   "execution_count": 19,
   "id": "60e3a1ff",
   "metadata": {},
   "outputs": [
    {
     "name": "stdout",
     "output_type": "stream",
     "text": [
      "largest number in the list is : 9\n"
     ]
    }
   ],
   "source": [
    "import numpy as np\n",
    "\n",
    "lis = [5, 7, 2, 8, 9]\n",
    "\n",
    "\n",
    "largest = np.max(lis)\n",
    "print (\"largest number in the list is :\", largest)"
   ]
  },
  {
   "cell_type": "markdown",
   "id": "54cda54c",
   "metadata": {},
   "source": [
    "### Python program to find second largest number in a list"
   ]
  },
  {
   "cell_type": "code",
   "execution_count": 20,
   "id": "47ee7ab5",
   "metadata": {},
   "outputs": [
    {
     "name": "stdout",
     "output_type": "stream",
     "text": [
      "the second largest number in the list is  45\n"
     ]
    }
   ],
   "source": [
    "list1 = [10, 20, 4, 45, 99]\n",
    "list1.sort() \n",
    "mx = list1[-2]\n",
    "print(\"the second largest number in the list is \", mx)"
   ]
  },
  {
   "cell_type": "code",
   "execution_count": 21,
   "id": "ebaefff9",
   "metadata": {},
   "outputs": [
    {
     "name": "stdout",
     "output_type": "stream",
     "text": [
      "largest number in the list is : 99\n",
      "second largest number in the list is : 45\n"
     ]
    }
   ],
   "source": [
    "list1 = [10, 20, 4, 45, 99]\n",
    "list1.sort()\n",
    "mx = max(list1[-1], list1[-2])\n",
    "secondmax = min(list1[-1], list1[-2])\n",
    "print(\"largest number in the list is :\",mx)\n",
    "print(\"second largest number in the list is :\", secondmax)"
   ]
  },
  {
   "cell_type": "markdown",
   "id": "414d6a97",
   "metadata": {},
   "source": [
    "### find N largest elements from a list"
   ]
  },
  {
   "cell_type": "code",
   "execution_count": 33,
   "id": "27f0e479",
   "metadata": {},
   "outputs": [
    {
     "name": "stdout",
     "output_type": "stream",
     "text": [
      "rank wise number from the list when list is sorted decending 4\n",
      "sorted list is  [99, 45, 20, 10, 4]\n",
      "4 nd  largest element in the list is 10 \n"
     ]
    }
   ],
   "source": [
    "list1 = [10, 20, 4, 45, 99]\n",
    "n = int(input(\"rank wise number from the list when list is sorted decending \"))\n",
    "list1.sort(reverse = True)\n",
    "\n",
    "print(\"sorted list is \", list1)\n",
    "print(\"{} nd  largest element in the list is {} \".format(n,list1[n-1]))"
   ]
  },
  {
   "cell_type": "code",
   "execution_count": 50,
   "id": "5fa05c48",
   "metadata": {},
   "outputs": [
    {
     "name": "stdout",
     "output_type": "stream",
     "text": [
      "before sorting the element [10, 20, 4, 45, 99]\n",
      "enter the rank element after sorting :2\n",
      "2th largest element in the list is 20\n"
     ]
    }
   ],
   "source": [
    "# with def function \n",
    "def n_th_largest_number(numbers, n):\n",
    "    sorted_numbers = sorted(numbers,reverse = True)\n",
    "    if n <= len(sorted_numbers):\n",
    "        return sorted_numbers[n-1]\n",
    "    else:\n",
    "        return None\n",
    "    \n",
    "list1 = [10, 20, 4, 45, 99]\n",
    "print(\"before sorting the element\",list1)\n",
    "n = int(input(\"enter the rank element after sorting :\" ))\n",
    "\n",
    "largest = n_th_largest_number(list1, n)\n",
    "\n",
    "if largest is not None:\n",
    "    \n",
    "    print(\"{}th largest element in the list is {}\".format(n, list1[n-1]))\n",
    "else:\n",
    "    print(\"valid rank tak na bhava, yaa list mde {} ch element ahet {} elements nahit.\".format(len(list1),n))"
   ]
  },
  {
   "cell_type": "markdown",
   "id": "8f5526fb",
   "metadata": {},
   "source": [
    "###  program to print even numbers in a list"
   ]
  },
  {
   "cell_type": "code",
   "execution_count": 45,
   "id": "43623523",
   "metadata": {},
   "outputs": [
    {
     "name": "stdout",
     "output_type": "stream",
     "text": [
      "10 20 4 "
     ]
    }
   ],
   "source": [
    "list1 = [10, 20, 4, 45, 99]\n",
    "\n",
    "\n",
    "for i in list1:\n",
    "    if i % 2 == 0 :\n",
    "        print(i, end =\" \")\n",
    "    \n",
    "    \n"
   ]
  },
  {
   "cell_type": "code",
   "execution_count": 48,
   "id": "900b8e00",
   "metadata": {},
   "outputs": [
    {
     "name": "stdout",
     "output_type": "stream",
     "text": [
      "even numbers in the given list are :  [2, 4, 6, 8, 10]\n"
     ]
    }
   ],
   "source": [
    "def get_even_numbers(numbers):\n",
    "    even_numbers = []\n",
    "    \n",
    "    for i in numbers:\n",
    "        if i % 2 == 0:\n",
    "            even_numbers.append(i)\n",
    "    return even_numbers\n",
    "\n",
    "#driven code\n",
    "\n",
    "my_list = [1, 2, 3, 4, 5, 6, 7, 8, 9, 10]\n",
    "even_list = get_even_numbers(my_list)\n",
    "\n",
    "print(\"even numbers in the given list are : \", even_list)"
   ]
  },
  {
   "cell_type": "code",
   "execution_count": 59,
   "id": "abdde955",
   "metadata": {},
   "outputs": [
    {
     "name": "stdout",
     "output_type": "stream",
     "text": [
      "enter the list seperated by space :4165 796 13 46 98\n",
      " the list before seperating between even and odd [4165, 796, 13, 46, 98]\n",
      " even numbers in the list are  [796, 46, 98]\n"
     ]
    }
   ],
   "source": [
    "# above code with input veraibles\n",
    "\n",
    "def get_even_numbers(numbers):\n",
    "    even_numbers = []\n",
    "    \n",
    "    for i in numbers:\n",
    "        if i % 2 == 0:\n",
    "            even_numbers.append(i)\n",
    "    return even_numbers\n",
    "\n",
    "\n",
    "\n",
    "\n",
    "#driven code\n",
    "input_string = input(\"enter the list seperated by space :\")\n",
    "input_list = input_string.split()\n",
    "\n",
    "\n",
    "list1 = []\n",
    "\n",
    "for i in input_list:\n",
    "    list1.append(int(i))\n",
    "print(\" the list before seperating between even and odd\",list1)    \n",
    "print(\" even numbers in the list are \",get_even_numbers(list1))"
   ]
  },
  {
   "cell_type": "markdown",
   "id": "58521526",
   "metadata": {},
   "source": [
    "### Python program to print odd numbers in a List\n"
   ]
  },
  {
   "cell_type": "code",
   "execution_count": 60,
   "id": "9cbc35b0",
   "metadata": {},
   "outputs": [
    {
     "name": "stdout",
     "output_type": "stream",
     "text": [
      "45 99 "
     ]
    }
   ],
   "source": [
    "list1 = [10, 20, 4, 45, 99]\n",
    "\n",
    "\n",
    "for i in list1:\n",
    "    if i % 2 == 1:\n",
    "        print ( i , end = \" \")"
   ]
  },
  {
   "cell_type": "code",
   "execution_count": 62,
   "id": "f8f7e9a7",
   "metadata": {},
   "outputs": [
    {
     "name": "stdout",
     "output_type": "stream",
     "text": [
      " odd numbers in the list are :  [45, 99]\n"
     ]
    }
   ],
   "source": [
    "def odd_numbers(numbers):\n",
    "    odd_numbers = []\n",
    "    for i in numbers:\n",
    "        if i % 2 == 1:\n",
    "            odd_numbers.append(i)\n",
    "            \n",
    "    return odd_numbers\n",
    "\n",
    "# driven code\n",
    "\n",
    "\n",
    "list1 = [10, 20, 4, 45, 99]\n",
    "print(\" odd numbers in the list are : \",odd_numbers(list1))"
   ]
  },
  {
   "cell_type": "code",
   "execution_count": 67,
   "id": "d29b64b1",
   "metadata": {},
   "outputs": [
    {
     "name": "stdout",
     "output_type": "stream",
     "text": [
      " enter the numbers  in the list seeprated by space4654 977 13 46 79\n",
      "elements in the list before seperating are  [4654, 977, 13, 46, 79]\n",
      "odd elements in the list are : [977, 13, 79]\n"
     ]
    }
   ],
   "source": [
    "# same code with input parameters\n",
    "\n",
    "def odd_numbers(numbers):\n",
    "    odd_nums = []\n",
    "    for i in numbers:\n",
    "        if i % 2 == 1:\n",
    "            odd_nums.append(i)\n",
    "            \n",
    "    return odd_nums\n",
    "\n",
    "\n",
    "# driven code\n",
    "\n",
    "\n",
    "string_input = input(\" enter the numbers  in the list seeprated by space\")\n",
    "input_list = string_input.split()\n",
    "\n",
    "list1 = []\n",
    "\n",
    "for i in input_list:\n",
    "    list1.append(int(i))\n",
    "    \n",
    "print(\"elements in the list before seperating are \", list1)\n",
    "print(\"odd elements in the list are :\", odd_numbers(list1))\n"
   ]
  },
  {
   "cell_type": "markdown",
   "id": "bfd77c52",
   "metadata": {},
   "source": [
    "### to print all even numbers in a range"
   ]
  },
  {
   "cell_type": "code",
   "execution_count": 70,
   "id": "f134e604",
   "metadata": {},
   "outputs": [
    {
     "name": "stdout",
     "output_type": "stream",
     "text": [
      "22 24 26 28 30 32 34 36 38 40 42 "
     ]
    }
   ],
   "source": [
    "for even_number in range(22, 44, 2):\n",
    "    print(even_number, end = \" \")"
   ]
  },
  {
   "cell_type": "code",
   "execution_count": 72,
   "id": "bac2f25d",
   "metadata": {},
   "outputs": [
    {
     "name": "stdout",
     "output_type": "stream",
     "text": [
      "enter the starting point :12\n",
      "enter the ending point :69\n",
      "12 14 16 18 20 22 24 26 28 30 32 34 36 38 40 42 44 46 48 50 52 54 56 58 60 62 64 66 68 "
     ]
    }
   ],
   "source": [
    "start = int(input(\"enter the starting point :\"))\n",
    "end  = int(input (\"enter the ending point :\"))\n",
    "\n",
    "for even_number in range(start, end+ 1 , 2):\n",
    "    print(even_number, end = \" \")\n"
   ]
  },
  {
   "cell_type": "code",
   "execution_count": 78,
   "id": "de3b3a33",
   "metadata": {},
   "outputs": [
    {
     "name": "stdout",
     "output_type": "stream",
     "text": [
      "enter the starting point :12\n",
      "enter the ending point :69\n",
      "even numbers in the range are:\n",
      "12 14 16 18 20 22 24 26 28 30 32 34 36 38 40 42 44 46 48 50 52 54 56 58 60 62 64 66 68 "
     ]
    }
   ],
   "source": [
    "start = int(input(\"enter the starting point :\"))\n",
    "end  = int(input (\"enter the ending point :\"))\n",
    "print(\"even numbers in the range are:\")\n",
    "for i in range(start, end+ 1):\n",
    "    if i % 2 == 0:\n",
    "        print(i, end = \" \")\n",
    "\n",
    "    \n",
    "    "
   ]
  },
  {
   "cell_type": "markdown",
   "id": "45fc6365",
   "metadata": {},
   "source": [
    "### Python program to print all odd numbers in a range\n"
   ]
  },
  {
   "cell_type": "code",
   "execution_count": 82,
   "id": "03f56474",
   "metadata": {},
   "outputs": [
    {
     "name": "stdout",
     "output_type": "stream",
     "text": [
      " odd number in the range are :\n",
      "3 5 7 9 11 13 15 17 19 21 23 25 27 29 31 33 35 37 39 41 43 45 "
     ]
    }
   ],
   "source": [
    "print(\" odd number in the range are :\")\n",
    "for odd_number in range(2, 45, 2):\n",
    "    print(odd_number+1, end = \" \")"
   ]
  },
  {
   "cell_type": "code",
   "execution_count": 83,
   "id": "1af50d07",
   "metadata": {},
   "outputs": [
    {
     "name": "stdout",
     "output_type": "stream",
     "text": [
      "enter the stating point in the range:12\n",
      "enter the ending point in the range:69\n",
      "\n",
      "13,15,17,19,21,23,25,27,29,31,33,35,37,39,41,43,45,47,49,51,53,55,57,59,61,63,65,67,69,"
     ]
    }
   ],
   "source": [
    "start = int(input(\"enter the stating point in the range:\"))\n",
    "end = int(input(\"enter the ending point in the range:\"))\n",
    "print(\"odd numbers in the range are \")\n",
    "for i in range(start, end+1 ,2):\n",
    "    print(i+1, end = \",\")"
   ]
  },
  {
   "cell_type": "code",
   "execution_count": 87,
   "id": "294b556c",
   "metadata": {},
   "outputs": [
    {
     "name": "stdout",
     "output_type": "stream",
     "text": [
      "enter the stating point in the range:12\n",
      "enter the ending point in the range:69\n",
      "odd numbers in the range are : \n",
      "13 15 17 19 21 23 25 27 29 31 33 35 37 39 41 43 45 47 49 51 53 55 57 59 61 63 65 67 69 "
     ]
    }
   ],
   "source": [
    "start = int(input(\"enter the stating point in the range:\"))\n",
    "end = int(input(\"enter the ending point in the range:\"))\n",
    "print(\"odd numbers in the range are : \")\n",
    "\n",
    "for i in range(start, end+1):\n",
    "    if i % 2 == 1:\n",
    "        print(i, end = \" \")"
   ]
  },
  {
   "cell_type": "code",
   "execution_count": 85,
   "id": "4feddf94",
   "metadata": {
    "scrolled": true
   },
   "outputs": [
    {
     "name": "stdout",
     "output_type": "stream",
     "text": [
      "enter the starting point : 12\n",
      "enter the ending point :69\n",
      "13 15 17 19 21 23 25 27 29 31 33 35 37 39 41 43 45 47 49 51 53 55 57 59 61 63 65 67 69 "
     ]
    }
   ],
   "source": [
    "#using pass\n",
    "\n",
    "start = int(input(\"enter the starting point : \"))\n",
    "end  = int(input(\"enter the ending point :\"))\n",
    "\n",
    "for i in range (start, end+1 ):\n",
    "    if i % 2 == 0:\n",
    "        pass\n",
    "    else:\n",
    "        print(i, end = \" \")"
   ]
  },
  {
   "cell_type": "markdown",
   "id": "ee401369",
   "metadata": {},
   "source": [
    "### Python program to print positive numbers in a list\n"
   ]
  },
  {
   "cell_type": "code",
   "execution_count": 94,
   "id": "e7a18cec",
   "metadata": {},
   "outputs": [
    {
     "name": "stdout",
     "output_type": "stream",
     "text": [
      "enter the list seperated by space :12 -75 -716 154 \n",
      "the list  [12, -75, -716, 154]\n",
      "positive numbers in the list are :\n",
      "12 154 "
     ]
    }
   ],
   "source": [
    "string_input = input( \"enter the list seperated by space :\")\n",
    "list_input = string_input.split()\n",
    "\n",
    "list1 = []\n",
    "\n",
    "for i in list_input:\n",
    "    list1.append(int(i))\n",
    "    \n",
    "print(\"the list \",list1)\n",
    "print(\"positive numbers in the list are :\")  \n",
    "for i in list1:\n",
    "    if i >= 0:\n",
    "        print(i, end = \" \")\n",
    "    \n",
    "    "
   ]
  },
  {
   "cell_type": "code",
   "execution_count": 97,
   "id": "e7703ae7",
   "metadata": {},
   "outputs": [
    {
     "name": "stdout",
     "output_type": "stream",
     "text": [
      "positive numbers in the list are :  [45, 93]\n"
     ]
    }
   ],
   "source": [
    "# with list comprehensive\n",
    "list1 = [-10, -21, -4, 45, -66, 93]\n",
    "\n",
    "\n",
    "pos_nums = [i for i in list1 if i >= 0]\n",
    "\n",
    "print(\"positive numbers in the list are : \", pos_nums)\n"
   ]
  },
  {
   "cell_type": "markdown",
   "id": "9a7b4c06",
   "metadata": {},
   "source": [
    "### Python program to print negative numbers in a list\n"
   ]
  },
  {
   "cell_type": "code",
   "execution_count": 99,
   "id": "d37a447f",
   "metadata": {},
   "outputs": [
    {
     "name": "stdout",
     "output_type": "stream",
     "text": [
      " enter the list seperated by spaces: -464 -465 -48 4451\n",
      "-464 -465 -48 "
     ]
    }
   ],
   "source": [
    "string_input = input (\" enter the list seperated by spaces: \")\n",
    "input_list = string_input.split()\n",
    "\n",
    "list1 = []\n",
    "\n",
    "\n",
    "for i in input_list:\n",
    "    list1.append(int(i))\n",
    "\n",
    "for i in list1:\n",
    "    if i < 0:\n",
    "        print(i, end = \" \")\n",
    "\n",
    "    "
   ]
  },
  {
   "cell_type": "markdown",
   "id": "8cacdcf0",
   "metadata": {},
   "source": [
    "### Python program to print all positive numbers in a range\n"
   ]
  },
  {
   "cell_type": "code",
   "execution_count": 13,
   "id": "2ba19912",
   "metadata": {},
   "outputs": [
    {
     "name": "stdout",
     "output_type": "stream",
     "text": [
      "0 1 2 3 4 5 6 7 8 9 10 11 12 13 14 15 16 17 18 19 20 21 22 23 24 25 26 27 28 29 30 31 32 33 34 35 36 37 38 39 40 41 42 43 44 45 46 47 48 49 50 51 52 53 54 55 56 57 58 59 60 61 62 63 64 65 66 67 68 "
     ]
    }
   ],
   "source": [
    "for i in range(-12, 69):\n",
    "    if i >= 0:\n",
    "        print(i, end = \" \")"
   ]
  },
  {
   "cell_type": "code",
   "execution_count": 14,
   "id": "8e3e336f",
   "metadata": {},
   "outputs": [
    {
     "name": "stdout",
     "output_type": "stream",
     "text": [
      "enter the starting point in the range :-12\n",
      "enter the end point of the range :12\n",
      "0 1 2 3 4 5 6 7 8 9 10 11 "
     ]
    }
   ],
   "source": [
    "start = int(input(\"enter the starting point in the range :\"))\n",
    "end = int(input(\"enter the end point of the range :\"))\n",
    "for i in range(start, end):\n",
    "    if i >= 0:\n",
    "        print(i, end = \" \")"
   ]
  },
  {
   "cell_type": "code",
   "execution_count": 16,
   "id": "cec5780e",
   "metadata": {},
   "outputs": [
    {
     "name": "stdout",
     "output_type": "stream",
     "text": [
      "0 1 2 3 4 5 6 7 8 9 10 11 "
     ]
    }
   ],
   "source": [
    "# with pass statement \n",
    "for i in range(-12, 12):\n",
    "    if i < 0:\n",
    "        pass\n",
    "    else:\n",
    "        print(i, end = \" \")"
   ]
  },
  {
   "cell_type": "code",
   "execution_count": 29,
   "id": "62982239",
   "metadata": {},
   "outputs": [
    {
     "name": "stdout",
     "output_type": "stream",
     "text": [
      "numbers in the list are : [-12, -11, -10, -9, -8, -7, -6, -5, -4, -3, -2, -1, 0, 1, 2, 3, 4, 5, 6, 7, 8, 9, 10, 11]\n",
      "positive numbers in the list are :  [0, 1, 2, 3, 4, 5, 6, 7, 8, 9, 10, 11]\n"
     ]
    }
   ],
   "source": [
    "# with lambda function \n",
    "list1 = []\n",
    "for i in range(-12,12):\n",
    "    list1.append(i)\n",
    "    \n",
    "print(\"numbers in the list are :\", list1) \n",
    "\n",
    "\n",
    "positive_nums = list(filter(lambda x: (x >= 0), list1))\n",
    "\n",
    "print(\"positive numbers in the list are : \", positive_nums)"
   ]
  },
  {
   "cell_type": "markdown",
   "id": "219986c9",
   "metadata": {},
   "source": [
    "### Python program to print negative numbers in a Range\n"
   ]
  },
  {
   "cell_type": "code",
   "execution_count": 5,
   "id": "aa779c61",
   "metadata": {},
   "outputs": [
    {
     "name": "stdout",
     "output_type": "stream",
     "text": [
      "-12 -11 -10 -9 -8 -7 -6 -5 -4 -3 -2 -1 "
     ]
    }
   ],
   "source": [
    "for i in range(-12,69):\n",
    "    if i < 0:\n",
    "        print(i , end = \" \")"
   ]
  },
  {
   "cell_type": "code",
   "execution_count": 9,
   "id": "0414d76f",
   "metadata": {},
   "outputs": [
    {
     "name": "stdout",
     "output_type": "stream",
     "text": [
      "enter the starting point in range: -12\n",
      "enter the end point of the range: 12\n",
      "-12 -11 -10 -9 -8 -7 -6 -5 -4 -3 -2 -1 "
     ]
    }
   ],
   "source": [
    "start = int(input(\"enter the starting point in range: \"))\n",
    "end = int(input(\"enter the end point of the range: \"))\n",
    "\n",
    "for i in range(start, end):\n",
    "    if i < 0:\n",
    "        print(i, end = \" \")"
   ]
  },
  {
   "cell_type": "code",
   "execution_count": 24,
   "id": "0a6ee942",
   "metadata": {},
   "outputs": [
    {
     "name": "stdout",
     "output_type": "stream",
     "text": [
      "numbers in the list are  [-12, -11, -10, -9, -8, -7, -6, -5, -4, -3, -2, -1, 0, 1, 2, 3, 4, 5, 6, 7, 8, 9, 10, 11, 12, 13, 14, 15, 16, 17, 18, 19, 20, 21, 22, 23, 24, 25, 26, 27, 28, 29, 30, 31, 32, 33, 34, 35, 36, 37, 38, 39, 40, 41, 42, 43, 44, 45, 46, 47, 48, 49, 50, 51, 52, 53, 54, 55, 56, 57, 58, 59, 60, 61, 62, 63, 64, 65, 66, 67, 68]\n",
      "negative numbers in the list are :  [-12, -11, -10, -9, -8, -7, -6, -5, -4, -3, -2, -1]\n"
     ]
    }
   ],
   "source": [
    "# with lambda function \n",
    "\n",
    "list1 = []\n",
    "for i in range(-12,69):\n",
    "    list1.append(i)\n",
    "    \n",
    "print(\"numbers in the list are \",list1)  \n",
    "\n",
    "\n",
    "negative_nums = list(filter(lambda x:(x<0), list1))\n",
    "print(\"negative numbers in the list are : \",negative_nums)"
   ]
  },
  {
   "cell_type": "markdown",
   "id": "ae2fd14b",
   "metadata": {},
   "source": [
    "### Remove multiple elements from a list in Python\n"
   ]
  },
  {
   "cell_type": "code",
   "execution_count": 32,
   "id": "cf6fb41b",
   "metadata": {},
   "outputs": [
    {
     "name": "stdout",
     "output_type": "stream",
     "text": [
      "the list after removal is : [11, 5, 17, 23]\n"
     ]
    }
   ],
   "source": [
    "list1 = [11, 5, 17, 18, 23, 50]\n",
    "\n",
    "\n",
    "for i in list1:\n",
    "    if i % 2 == 0:\n",
    "        list1.remove(i)\n",
    "        \n",
    "print(\"the list after removal is :\",list1)"
   ]
  },
  {
   "cell_type": "code",
   "execution_count": 35,
   "id": "6fed2f5a",
   "metadata": {},
   "outputs": [
    {
     "name": "stdout",
     "output_type": "stream",
     "text": [
      "list before removing elements are  [12, 13, 14, 15, 16, 17, 18, 19, 20, 21, 22, 23, 24, 25, 26, 27, 28, 29, 30, 31, 32, 33, 34, 35, 36, 37, 38, 39, 40, 41, 42, 43, 44, 45, 46, 47, 48, 49, 50, 51, 52, 53, 54, 55, 56, 57, 58, 59, 60, 61, 62, 63, 64, 65, 66, 67, 68]\n",
      "after removing the elements are : \n",
      "12 14 16 18 20 22 24 26 28 30 32 34 36 38 40 42 44 46 48 50 52 54 56 58 60 62 64 66 68 "
     ]
    }
   ],
   "source": [
    "list1 = []\n",
    "\n",
    "for i in range(12,69):\n",
    "    list1.append(i)\n",
    "    \n",
    "    \n",
    "    \n",
    "print(\"list before removing elements are : \", list1)\n",
    "print(\"after removing the elements are : \")\n",
    "\n",
    "\n",
    "\n",
    "\n",
    "for i in list1:\n",
    "    if i %2 ==0:\n",
    "        list1.remove(i)\n",
    "        \n",
    "        print(i, end = \" \")"
   ]
  },
  {
   "cell_type": "code",
   "execution_count": 39,
   "id": "594d7730",
   "metadata": {},
   "outputs": [
    {
     "name": "stdout",
     "output_type": "stream",
     "text": [
      "before applying any function  [11, 5, 17, 18, 23, 50]\n",
      " after applying function  [11, 5, 17, 23]\n"
     ]
    }
   ],
   "source": [
    "# with comprehansion \n",
    "\n",
    "list1 = [11, 5, 17, 18, 23, 50]\n",
    "print(\"before applying any function \",list1)\n",
    "\n",
    "list1 = [i for i in list1 if i % 2 != 0]\n",
    "\n",
    "print(\" after applying function \",list1)"
   ]
  },
  {
   "cell_type": "code",
   "execution_count": null,
   "id": "02123872",
   "metadata": {},
   "outputs": [],
   "source": [
    "list1 = [11, 5, 17, 18, 23, 50]\n",
    "\n",
    "\n",
    "list1 = [i ]"
   ]
  },
  {
   "cell_type": "code",
   "execution_count": 42,
   "id": "f9dcf4e9",
   "metadata": {},
   "outputs": [
    {
     "name": "stdout",
     "output_type": "stream",
     "text": [
      "[11, 5, 17, 23]\n"
     ]
    }
   ],
   "source": [
    "list1 = [11, 5, 17, 18, 23, 50]\n",
    "\n",
    "list1 = [ elem for i,elem in enumerate(list1) if elem % 2 != 0]\n",
    "\n",
    "print(list1)\n"
   ]
  },
  {
   "cell_type": "markdown",
   "id": "bd853998",
   "metadata": {},
   "source": [
    "### Python – Remove empty List from List\n"
   ]
  },
  {
   "cell_type": "code",
   "execution_count": 50,
   "id": "56b0c295",
   "metadata": {},
   "outputs": [
    {
     "name": "stdout",
     "output_type": "stream",
     "text": [
      "<class 'list'>\n",
      "The original list is : [5, 6, [], 3, [], [], 9]\n",
      "list after the empty list removal :  [5, 6, 3, 9]\n"
     ]
    }
   ],
   "source": [
    "test_list = [5, 6, [], 3, [], [], 9]\n",
    "print(type(test_list))\n",
    "# printing original list\n",
    "print(\"The original list is : \" + str(test_list))\n",
    "\n",
    "test_list = [i for i in test_list if i != []]\n",
    "\n",
    "\n",
    "print(\"list after the empty list removal : \", test_list)"
   ]
  },
  {
   "cell_type": "code",
   "execution_count": 52,
   "id": "d3a561f4",
   "metadata": {},
   "outputs": [
    {
     "name": "stdout",
     "output_type": "stream",
     "text": [
      "list after empty list removal [5, 6, 3, 9]\n"
     ]
    }
   ],
   "source": [
    "# with filter list \n",
    "\n",
    "test_list = [5, 6, [], 3, [], [], 9]\n",
    "\n",
    "\n",
    "res = list(filter(lambda x: x !=[],test_list))\n",
    "\n",
    "print(\"list after empty list removal\",res)"
   ]
  },
  {
   "cell_type": "code",
   "execution_count": 65,
   "id": "22748b0c",
   "metadata": {},
   "outputs": [
    {
     "name": "stdout",
     "output_type": "stream",
     "text": [
      "the original list is :[5, 6, [], 3, [], [], 9]\n",
      "the list after removing the empty strings is : [5, 6, 3, 9]\n"
     ]
    }
   ],
   "source": [
    "test_list = [5, 6, [], 3, [], [], 9]\n",
    " \n",
    "print(\"the original list is :\" +  str(test_list))\n",
    "\n",
    "\n",
    "res = list(map(lambda x: x if x != [] else None, test_list))\n",
    "\n",
    "res = [x for x in res if x != None]\n",
    "\n",
    "print(\"the list after removing the empty strings is :\", res)"
   ]
  },
  {
   "cell_type": "code",
   "execution_count": 63,
   "id": "c9415df4",
   "metadata": {},
   "outputs": [
    {
     "name": "stdout",
     "output_type": "stream",
     "text": [
      "The original list is : [5, 6, [], 3, [], [], 9]\n",
      "List after empty list removal : [5, 6, 3, 9]\n"
     ]
    }
   ],
   "source": [
    "# Initializing list\n",
    "test_list = [5, 6, [], 3, [], [], 9]\n",
    "\n",
    "# printing original list\n",
    "print(\"The original list is : \" + str(test_list))\n",
    "\n",
    "# using map() function\n",
    "res = list(map(lambda x: x if x != [] else None, test_list))\n",
    "res = [x for x in res if x != None]\n",
    "\n",
    "# printing result\n",
    "print(\"List after empty list removal : \" + str(res))\n"
   ]
  },
  {
   "cell_type": "markdown",
   "id": "34b887b2",
   "metadata": {},
   "source": [
    "### Cloning or Copying a list"
   ]
  },
  {
   "cell_type": "code",
   "execution_count": 70,
   "id": "d3e3c1f2",
   "metadata": {},
   "outputs": [
    {
     "name": "stdout",
     "output_type": "stream",
     "text": [
      "[5, 6, [], 3, [], [], 9]\n"
     ]
    }
   ],
   "source": [
    "import copy\n",
    "\n",
    "test_list = [5, 6, [], 3, [], [], 9]\n",
    "\n",
    "\n",
    "test= copy.copy(test_list)\n",
    "\n",
    "print(test)"
   ]
  },
  {
   "cell_type": "markdown",
   "id": "f8c88088",
   "metadata": {},
   "source": [
    "### Count occurrences of an element in a list"
   ]
  },
  {
   "cell_type": "markdown",
   "id": "cc882f9b",
   "metadata": {},
   "source": [
    "Input: lst = [15, 6, 7, 10, 12, 20, 10, 28, 10], x = 10\n",
    "Output: 3 \n",
    "Explanation: 10 appears three times in given list.\n"
   ]
  },
  {
   "cell_type": "code",
   "execution_count": 71,
   "id": "aca650b0",
   "metadata": {},
   "outputs": [
    {
     "name": "stdout",
     "output_type": "stream",
     "text": [
      "2\n"
     ]
    }
   ],
   "source": [
    "def countx(lst, x):\n",
    "    count = 0\n",
    "    for i in lst:\n",
    "        if (i == x):\n",
    "            count += 1\n",
    "    return count\n",
    "\n",
    "lst = [11, 5, 17, 18, 23, 50, 5]\n",
    "\n",
    "\n",
    "print(countx(lst,5 ))"
   ]
  },
  {
   "cell_type": "code",
   "execution_count": 80,
   "id": "5ebc3ea3",
   "metadata": {},
   "outputs": [
    {
     "name": "stdout",
     "output_type": "stream",
     "text": [
      "enter the numbers seperated by space : 12 1 \n",
      "1\n"
     ]
    }
   ],
   "source": [
    "def countx(lst, x):\n",
    "    count = 0\n",
    "    for i in lst:\n",
    "        if (i == x):\n",
    "            count += 1\n",
    "    return count\n",
    "\n",
    "\n",
    "string_input = input(\"enter the numbers seperated by space : \")\n",
    "list_input = string_input.split()\n",
    "\n",
    "lst = []\n",
    "\n",
    "for i in list_input:\n",
    "    lst.append(int(i))\n",
    "\n",
    "print(countx(lst,1))\n",
    "\n",
    "print "
   ]
  },
  {
   "cell_type": "markdown",
   "id": "d04af66a",
   "metadata": {},
   "source": [
    "### Remove empty tuples from a list"
   ]
  },
  {
   "cell_type": "code",
   "execution_count": 86,
   "id": "724e144f",
   "metadata": {},
   "outputs": [
    {
     "name": "stdout",
     "output_type": "stream",
     "text": [
      "after removing the empty tuples are : [('ram', '15', '8'), ('laxman', 'sita'), ('krishna', 'akbar', '45'), ('', '')]\n"
     ]
    }
   ],
   "source": [
    "def remove_tuple(tuples):\n",
    "    tuples = [ i for i in tuples if  i]\n",
    "    return tuples\n",
    "\n",
    "tuples = [(), ('ram','15','8'), (), ('laxman', 'sita'),\n",
    "          ('krishna', 'akbar', '45'), ('',''),()]\n",
    "\n",
    "print(\"after removing the empty tuples are :\",remove_tuple(tuples))"
   ]
  },
  {
   "cell_type": "code",
   "execution_count": 90,
   "id": "e1133124",
   "metadata": {},
   "outputs": [
    {
     "name": "stdout",
     "output_type": "stream",
     "text": [
      "<filter object at 0x00000285FAA56470>\n"
     ]
    }
   ],
   "source": [
    "def remove(tuples):\n",
    "    tuples = filter(None, tuples)\n",
    "    return tuples\n",
    "\n",
    "#driver code\n",
    "\n",
    "tuples = [(), ('ram','15','8'), (), ('laxman', 'sita'),\n",
    "          ('krishna', 'akbar', '45'), ('',''),()]\n",
    "\n",
    "print(remove(tuples))\n",
    "\n",
    "\n"
   ]
  },
  {
   "cell_type": "markdown",
   "id": "d8b0b98f",
   "metadata": {},
   "source": [
    "the above method will not work on python 3 it will work on python 2 \n",
    "\n",
    "Using the inbuilt method filter() in Python, we can filter out the empty elements by passing the None as the parameter. This method works in both Python 2 and Python 3 and above, but the desired output is only shown in Python 2 because Python 3 returns a generator."
   ]
  },
  {
   "cell_type": "code",
   "execution_count": 92,
   "id": "254fc794",
   "metadata": {},
   "outputs": [
    {
     "name": "stdout",
     "output_type": "stream",
     "text": [
      "list after removing empty list is : [('ram', '15', '8'), ('laxman', 'sita'), ('krishna', 'akbar', '45'), ('', '')]\n"
     ]
    }
   ],
   "source": [
    "def remove(tuples):\n",
    "    for i in tuples:\n",
    "        if (i == ()):\n",
    "            tuples.remove(i)\n",
    "    return tuples\n",
    "\n",
    "tuples = [(), ('ram','15','8'), (), ('laxman', 'sita'),\n",
    "        ('krishna', 'akbar', '45'), ('',''),()]\n",
    "\n",
    "print(\"list after removing empty list is :\", remove(tuples))"
   ]
  },
  {
   "cell_type": "markdown",
   "id": "f46d5ed5",
   "metadata": {},
   "source": [
    "### Program to print duplicates from a list of integers"
   ]
  },
  {
   "cell_type": "code",
   "execution_count": 100,
   "id": "f9b922a9",
   "metadata": {},
   "outputs": [
    {
     "name": "stdout",
     "output_type": "stream",
     "text": [
      "[1, 2, 3, 4, 5, 6, 7, 8, 9]\n",
      "[1, 2, 3, 4, 5, 6, 7, 8, 9]\n"
     ]
    }
   ],
   "source": [
    "lis = [1, 2, 1, 2, 3, 4, 5, 1, 1, 2, 5, 6, 7, 8, 9, 9]\n",
    "\n",
    "uniquelist = []\n",
    "duplicatelist = []\n",
    "\n",
    "\n",
    "\n",
    "for i in lis:\n",
    "    if i not in uniquelist:\n",
    "        uniquelist.append(i)\n",
    "        if i not in duplicatelist:\n",
    "            duplicatelist.append(i)\n",
    "            \n",
    "print(duplicatelist)\n",
    "print(uniquelist)  "
   ]
  },
  {
   "cell_type": "markdown",
   "id": "4979045a",
   "metadata": {},
   "source": [
    "###  program to find Cumulative sum of a list"
   ]
  },
  {
   "cell_type": "code",
   "execution_count": 101,
   "id": "bcd6c167",
   "metadata": {},
   "outputs": [
    {
     "name": "stdout",
     "output_type": "stream",
     "text": [
      "[10, 30, 60, 100, 150]\n"
     ]
    }
   ],
   "source": [
    "def cumsum(lists):\n",
    "    cu_list = []\n",
    "    length = len(lists)\n",
    "    cu_list = [sum(lists[0:x:1]) for x in range(0,length+1)]\n",
    "    return cu_list[1:]\n",
    "\n",
    "lists = [10, 20, 30, 40, 50]\n",
    "print(cumsum(lists))"
   ]
  },
  {
   "cell_type": "code",
   "execution_count": 105,
   "id": "a2482a30",
   "metadata": {},
   "outputs": [
    {
     "name": "stdout",
     "output_type": "stream",
     "text": [
      "the given list is :  [10, 20, 30, 40, 50]\n",
      " commulative sum of the list is : [10, 30, 60, 100, 150]\n"
     ]
    }
   ],
   "source": [
    "list=[10,20,30,40,50]\n",
    "\n",
    "new_list = []\n",
    "cumsum = 0\n",
    "print(\"the given list is : \", list)\n",
    "for i in range(0, len(list)):\n",
    "    cumsum = cumsum + list[i]\n",
    "    new_list.append(cumsum)\n",
    "    \n",
    "print(\" commulative sum of the list is :\",new_list)"
   ]
  },
  {
   "cell_type": "markdown",
   "id": "41087add",
   "metadata": {},
   "source": [
    "### Sum of number digits in List"
   ]
  },
  {
   "cell_type": "code",
   "execution_count": 107,
   "id": "cdf236da",
   "metadata": {},
   "outputs": [
    {
     "name": "stdout",
     "output_type": "stream",
     "text": [
      "the original list is : [12, 67, 98, 34]\n",
      " list integer summeation :  [3, 13, 17, 7]\n"
     ]
    }
   ],
   "source": [
    "test_list = [12, 67, 98, 34]\n",
    "\n",
    "\n",
    "print(\"the original list is :\", test_list)\n",
    "\n",
    "\n",
    "res = []\n",
    "for ele in test_list:\n",
    "    sum = 0\n",
    "    for digit in str(ele):\n",
    "        sum = sum +int(digit)\n",
    "    res.append(sum)\n",
    "    \n",
    "    \n",
    "print(\" list integer summeation : \", str(res))"
   ]
  },
  {
   "cell_type": "markdown",
   "id": "5e97a38d",
   "metadata": {},
   "source": [
    "### Break a list into chunks of size N in Python\n"
   ]
  },
  {
   "cell_type": "code",
   "execution_count": 117,
   "id": "c2302046",
   "metadata": {},
   "outputs": [
    {
     "name": "stdout",
     "output_type": "stream",
     "text": [
      "<generator object divide_chunks at 0x00000285FB55E9D0>\n"
     ]
    }
   ],
   "source": [
    "#Using yield\n",
    "\n",
    "\n",
    "\n",
    "my_list = ['geeks', 'for', 'geeks', 'like',\n",
    "           'geeky','nerdy', 'geek', 'love',\n",
    "               'questions','words', 'life']\n",
    "  \n",
    "    \n",
    "def divide_chunks(l, n):\n",
    "    \n",
    "    \n",
    "    for i in range(0, len(l), n):\n",
    "        yield l[i:n+1]\n",
    "\n",
    "n=5\n",
    "\n",
    "\n",
    "x = divide_chunks(my_list, n)\n",
    "\n",
    "print(x)"
   ]
  },
  {
   "cell_type": "code",
   "execution_count": 123,
   "id": "d9db3227",
   "metadata": {},
   "outputs": [
    {
     "name": "stdout",
     "output_type": "stream",
     "text": [
      "[1, 2, 3, 4]\n",
      "[5, 6, 7, 8]\n",
      "[9]\n"
     ]
    }
   ],
   "source": [
    "\n",
    "my_list = [1, 2, 3, 4, 5,\n",
    "           6, 7, 8, 9]\n",
    "start = 0\n",
    "end = len(my_list)\n",
    "step = 4\n",
    "for i in range(start, end, step):\n",
    "    x= i\n",
    "    print(my_list[x:x+step])\n",
    "        "
   ]
  },
  {
   "cell_type": "code",
   "execution_count": 133,
   "id": "a711efd2",
   "metadata": {},
   "outputs": [
    {
     "name": "stdout",
     "output_type": "stream",
     "text": [
      "the list before spliting is : [12, 13, 14, 15, 16, 17, 18, 19, 20, 21, 22, 23, 24, 25, 26, 27, 28, 29, 30, 31, 32, 33, 34, 35, 36, 37, 38, 39, 40, 41, 42, 43, 44, 45, 46, 47, 48, 49, 50, 51, 52, 53, 54, 55, 56, 57, 58, 59, 60, 61, 62, 63, 64, 65, 66, 67, 68]\n",
      "[24, 25, 26, 27]\n",
      "[28, 29, 30, 31]\n",
      "[32, 33, 34, 35]\n",
      "[36, 37, 38, 39]\n",
      "[40, 41, 42, 43]\n",
      "[44, 45, 46, 47]\n",
      "[48, 49, 50, 51]\n",
      "[52, 53, 54, 55]\n",
      "[56, 57, 58, 59]\n",
      "[60, 61, 62, 63]\n",
      "[64, 65, 66, 67]\n",
      "[68]\n",
      "[]\n",
      "[]\n",
      "[]\n"
     ]
    }
   ],
   "source": [
    "my_list = []\n",
    "\n",
    "start = 12\n",
    "end = 69\n",
    "step = 4\n",
    "for i in range(start, end):\n",
    "    my_list.append(i)\n",
    "    \n",
    "print(\"the list before spliting is :\", my_list)\n",
    "\n",
    "for j in range(start, end , step):\n",
    "        x = j\n",
    "        print(my_list[x: x+step])"
   ]
  },
  {
   "cell_type": "code",
   "execution_count": 136,
   "id": "71278a51",
   "metadata": {},
   "outputs": [
    {
     "name": "stdout",
     "output_type": "stream",
     "text": [
      "[[1, 2, 3, 4], [5, 6, 7, 8], [9]]\n"
     ]
    }
   ],
   "source": [
    "# using list comprehansive\n",
    "\n",
    "\n",
    "my_list = [1, 2, 3, 4, 5,\n",
    "              6, 7, 8, 9]\n",
    "\n",
    "n = 4\n",
    "\n",
    "final = [my_list[i * n :(i+1) * n] for i in range((len(my_list)+n -1)//n)]\n",
    "\n",
    "print(final)"
   ]
  },
  {
   "cell_type": "code",
   "execution_count": 142,
   "id": "e8aa110c",
   "metadata": {},
   "outputs": [
    {
     "data": {
      "text/plain": [
       "[array([0, 1, 2]),\n",
       " array([3, 4, 5]),\n",
       " array([6, 7, 8]),\n",
       " array([ 9, 10, 11]),\n",
       " array([12, 13, 14]),\n",
       " array([15, 16, 17]),\n",
       " array([18, 19, 20]),\n",
       " array([21, 22, 23]),\n",
       " array([24, 25, 26]),\n",
       " array([27, 28, 29]),\n",
       " array([30, 31, 32])]"
      ]
     },
     "execution_count": 142,
     "metadata": {},
     "output_type": "execute_result"
    }
   ],
   "source": [
    "# using numpy\n",
    "import numpy as np\n",
    "arr = range(33)\n",
    "np.array_split(arr, 11)"
   ]
  },
  {
   "cell_type": "markdown",
   "id": "ffc01e09",
   "metadata": {},
   "source": [
    "### Sort the values of first list using second list in Python\n"
   ]
  },
  {
   "cell_type": "markdown",
   "id": "c8925394",
   "metadata": {},
   "source": [
    "Input : list1 = [“a”, “b”, “c”, “d”, “e”, “f”, “g”, “h”, “i”]\n",
    "           list2 = [ 0,   1,   1,    0,   1,   2,   2,   0,   1]\n",
    "Output : [‘a’, ‘d’, ‘h’, ‘b’, ‘c’, ‘e’, ‘i’, ‘f’, ‘g’]\n",
    "\n",
    "Input : list1 = [“g”, “e”, “e”, “k”, “s”, “f”, “o”, “r”, “g”, “e”, “e”, “k”, “s”]\n",
    "            list2 = [ 0,   1,   1,    0,   1,   2,   2,   0,   1]\n",
    "Output : [‘g’, ‘k’, ‘r’, ‘e’, ‘e’, ‘g’, ‘s’, ‘f’, ‘o’]\n",
    "\n"
   ]
  },
  {
   "cell_type": "code",
   "execution_count": 149,
   "id": "7c9113dc",
   "metadata": {},
   "outputs": [
    {
     "name": "stdout",
     "output_type": "stream",
     "text": [
      "['a', 'd', 'h', 'b', 'c', 'e', 'i', 'f', 'g']\n",
      "['g', 'k', 'r', 'e', 'e', 'g', 's', 'f', 'o']\n"
     ]
    }
   ],
   "source": [
    "def sort_list(list1, list2):\n",
    "    zipped_pairs = zip(list2, list1)\n",
    "    z = [ x for _, x in sorted(zipped_pairs)]\n",
    "    \n",
    "    \n",
    "    return z\n",
    "\n",
    "\n",
    "\n",
    "x = [\"a\", \"b\", \"c\", \"d\", \"e\", \"f\", \"g\", \"h\", \"i\"]\n",
    "y = [0,   1,   1,    0,   1,   2,   2,   0,   1]\n",
    "\n",
    "\n",
    "print(sort_list(x, y))\n",
    "\n",
    "\n"
   ]
  },
  {
   "cell_type": "code",
   "execution_count": 151,
   "id": "0d6b3a51",
   "metadata": {},
   "outputs": [
    {
     "name": "stdout",
     "output_type": "stream",
     "text": [
      "['a' 'd' 'h' 'b' 'c' 'e' 'i' 'f' 'g']\n"
     ]
    }
   ],
   "source": [
    "def sorted_list(list1, list2):\n",
    "    idx = np.argsort(list2)\n",
    "    return np.array(list1)[idx]\n",
    "\n",
    "\n",
    "x = [\"a\", \"b\", \"c\", \"d\", \"e\", \"f\", \"g\", \"h\", \"i\"]\n",
    "y = [0, 1, 1, 0, 1, 2, 2, 0, 1]\n",
    " \n",
    "print(sorted_list(x, y))"
   ]
  },
  {
   "cell_type": "code",
   "execution_count": null,
   "id": "9ef72e46",
   "metadata": {},
   "outputs": [],
   "source": []
  }
 ],
 "metadata": {
  "kernelspec": {
   "display_name": "Python 3 (ipykernel)",
   "language": "python",
   "name": "python3"
  },
  "language_info": {
   "codemirror_mode": {
    "name": "ipython",
    "version": 3
   },
   "file_extension": ".py",
   "mimetype": "text/x-python",
   "name": "python",
   "nbconvert_exporter": "python",
   "pygments_lexer": "ipython3",
   "version": "3.10.9"
  }
 },
 "nbformat": 4,
 "nbformat_minor": 5
}
